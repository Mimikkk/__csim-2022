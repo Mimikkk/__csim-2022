{
 "cells": [
  {
   "cell_type": "code",
   "execution_count": 2,
   "outputs": [],
   "source": [
    "from fhirpy import SyncFHIRClient\n",
    "from fhirpy.base import SyncSearchSet\n",
    "import json\n",
    "from pathlib import Path\n",
    "from os import getcwd"
   ],
   "metadata": {
    "collapsed": false,
    "pycharm": {
     "name": "#%%\n"
    }
   }
  },
  {
   "cell_type": "code",
   "execution_count": 3,
   "outputs": [],
   "source": [
    "Mocks = Path(getcwd()).parent / \"src\" / \"mocks\""
   ],
   "metadata": {
    "collapsed": false,
    "pycharm": {
     "name": "#%%\n"
    }
   }
  },
  {
   "cell_type": "code",
   "execution_count": 4,
   "outputs": [],
   "source": [
    "BaseUrl = \"http://hapi.fhir.org/baseR4\"\n",
    "Client = SyncFHIRClient(BaseUrl)"
   ],
   "metadata": {
    "collapsed": false,
    "pycharm": {
     "name": "#%%\n"
    }
   }
  },
  {
   "cell_type": "code",
   "execution_count": 5,
   "outputs": [],
   "source": [
    "Patient: SyncSearchSet = Client.resources(\"Patient\")\n",
    "MedicationStatement: SyncSearchSet = Client.resources(\"MedicationStatement\")\n",
    "Observation: SyncSearchSet = Client.resources(\"Observation\")"
   ],
   "metadata": {
    "collapsed": false,
    "pycharm": {
     "name": "#%%\n"
    }
   }
  },
  {
   "cell_type": "code",
   "execution_count": 13,
   "outputs": [
    {
     "name": "stdout",
     "output_type": "stream",
     "text": [
      "{'resourceType': 'Bundle', 'id': '9045bd07-7356-4a1a-9b4d-5ddfd83e7503', 'meta': {'lastUpdated': '2022-05-04T14:32:41.593+00:00'}, 'type': 'searchset', 'total': 80, 'link': [{'relation': 'self', 'url': 'http://hapi.fhir.org/baseR4/Patient/1190111/$everything'}, {'relation': 'next', 'url': 'http://hapi.fhir.org/baseR4?_getpages=9045bd07-7356-4a1a-9b4d-5ddfd83e7503&_getpagesoffset=20&_count=20&_pretty=true&_bundletype=searchset'}], 'entry': [{'fullUrl': 'http://hapi.fhir.org/baseR4/Patient/1190111', 'resource': {'resourceType': 'Patient', 'id': '1190111', 'meta': {'versionId': '1', 'lastUpdated': '2020-06-07T20:52:41.802+00:00', 'source': '#NUWvCkoJK1vSEdNM'}, 'text': {'status': 'generated', 'div': '<div xmlns=\"http://www.w3.org/1999/xhtml\">Kamila Liberali</div>'}, 'identifier': [{'system': 'http://clinfhir.com/fhir/NamingSystem/identifier', 'value': 'kamila_liberali@hotmail.com'}], 'name': [{'use': 'official', 'text': 'Kamila Liberali', 'family': 'Liberali', 'given': ['Kamila']}], 'gender': 'female', 'birthDate': '1995-01-12'}, 'search': {'mode': 'match'}}, {'fullUrl': 'http://hapi.fhir.org/baseR4/AllergyIntolerance/1190188', 'resource': {'resourceType': 'AllergyIntolerance', 'id': '1190188', 'meta': {'versionId': '1', 'lastUpdated': '2020-06-07T20:52:46.662+00:00', 'source': '#qWoMV01dPlGSsTMK'}, 'text': {'status': 'generated', 'div': '<div xmlns=\"http://www.w3.org/1999/xhtml\">eggs causes hives</div>'}, 'type': 'allergy', 'category': ['food'], 'code': {'coding': [{'system': 'http://snomed.info/sct', 'code': '91930004', 'display': 'Allergy to eggs'}]}, 'patient': {'reference': 'Patient/1190111'}, 'onsetAge': {'value': 4, 'unit': 'year', 'system': 'http://unitsofmeasure.org', 'code': 'a'}, 'recorder': {'reference': 'Practitioner/30164'}, 'reaction': [{'manifestation': [{'coding': [{'system': 'http://snomed.info/sct', 'code': '247472004', 'display': 'Hives'}]}, {'coding': [{'system': 'http://snomed.info/sct', 'code': '422587007', 'display': 'Nausea'}]}, {'coding': [{'system': 'http://snomed.info/sct', 'code': '422400008', 'display': 'Vomiting'}]}]}]}, 'search': {'mode': 'match'}}, {'fullUrl': 'http://hapi.fhir.org/baseR4/AllergyIntolerance/1190187', 'resource': {'resourceType': 'AllergyIntolerance', 'id': '1190187', 'meta': {'versionId': '1', 'lastUpdated': '2020-06-07T20:52:46.662+00:00', 'source': '#qWoMV01dPlGSsTMK'}, 'text': {'status': 'generated', 'div': '<div xmlns=\"http://www.w3.org/1999/xhtml\">Ibuprofen causes urticaria</div>'}, 'type': 'allergy', 'code': {'coding': [{'system': 'http://snomed.info/sct', 'code': '387207008', 'display': 'Ibuprofen'}]}, 'patient': {'reference': 'Patient/1190111'}, 'recorder': {'reference': 'Practitioner/30164'}, 'reaction': [{'manifestation': [{'coding': [{'system': 'http://snomed.info/sct', 'code': '126485001', 'display': 'Urticaria'}]}]}]}, 'search': {'mode': 'match'}}, {'fullUrl': 'http://hapi.fhir.org/baseR4/List/1190186', 'resource': {'resourceType': 'List', 'id': '1190186', 'meta': {'versionId': '1', 'lastUpdated': '2020-06-07T20:52:46.662+00:00', 'source': '#qWoMV01dPlGSsTMK'}, 'text': {'status': 'generated', 'div': '<div xmlns=\"http://www.w3.org/1999/xhtml\">Allergies list</div>'}, 'status': 'current', 'mode': 'snapshot', 'title': 'Allergies List', 'code': {'coding': [{'system': 'http://hl7.org/fhir/list-example-use-codes', 'code': 'allergies'}]}, 'subject': {'reference': 'Patient/1190111'}, 'date': '2020-06-07T17:52:45-03:00', 'entry': [{'date': '2020-06-07T17:52:45-03:00', 'item': {'reference': 'AllergyIntolerance/1190187'}}, {'date': '2020-06-07T17:52:45-03:00', 'item': {'reference': 'AllergyIntolerance/1190188'}}]}, 'search': {'mode': 'match'}}, {'fullUrl': 'http://hapi.fhir.org/baseR4/Appointment/1190184', 'resource': {'resourceType': 'Appointment', 'id': '1190184', 'meta': {'versionId': '1', 'lastUpdated': '2020-06-07T20:52:45.935+00:00', 'source': '#3jPMRCNtID97mUn5'}, 'text': {'status': 'generated', 'div': '<div xmlns=\"http://www.w3.org/1999/xhtml\"><div>Investigate Angina</div><div>Clarence cardiology clinic</div></div>'}, 'status': 'pending', 'description': 'Investigate Angina', 'start': '2020-06-11T17:52:45-03:00', 'end': '2020-06-11T18:07:45-03:00', 'minutesDuration': 15, 'participant': [{'actor': {'display': 'Clarence cardiology clinic'}, 'status': 'accepted'}, {'actor': {'reference': 'Patient/1190111'}, 'status': 'accepted'}]}, 'search': {'mode': 'match'}}, {'fullUrl': 'http://hapi.fhir.org/baseR4/Appointment/1190185', 'resource': {'resourceType': 'Appointment', 'id': '1190185', 'meta': {'versionId': '1', 'lastUpdated': '2020-06-07T20:52:45.935+00:00', 'source': '#3jPMRCNtID97mUn5'}, 'text': {'status': 'generated', 'div': '<div xmlns=\"http://www.w3.org/1999/xhtml\"><div>Routine checkup</div><div>Dr Dave</div></div>'}, 'status': 'pending', 'description': 'Routine checkup', 'start': '2020-06-14T17:52:45-03:00', 'end': '2020-06-14T18:07:45-03:00', 'minutesDuration': 15, 'participant': [{'actor': {'display': 'Dr Dave'}, 'status': 'accepted'}, {'actor': {'reference': 'Patient/1190111'}, 'status': 'accepted'}]}, 'search': {'mode': 'match'}}, {'fullUrl': 'http://hapi.fhir.org/baseR4/MedicationStatement/1190175', 'resource': {'resourceType': 'MedicationStatement', 'id': '1190175', 'meta': {'versionId': '1', 'lastUpdated': '2020-06-07T20:52:45.458+00:00', 'source': '#z9IOhkcxDaXTtzjp'}, 'text': {'status': 'generated', 'div': '<div xmlns=\"http://www.w3.org/1999/xhtml\">naproxen 500mg twice daily</div>'}, 'status': 'active', 'medicationCodeableConcept': {'coding': [{'system': 'http://snomed.info/ct', 'code': '329839005', 'display': 'naproxen 500mg e/c tablet'}], 'text': 'naproxen 500mg e/c tablet'}, 'subject': {'reference': 'Patient/1190111'}, 'dosage': [{'text': '1 tab twice daily', 'timing': {'repeat': {'frequency': 2, 'period': 1, 'periodUnit': 'd'}}}]}, 'search': {'mode': 'match'}}, {'fullUrl': 'http://hapi.fhir.org/baseR4/MedicationStatement/1190176', 'resource': {'resourceType': 'MedicationStatement', 'id': '1190176', 'meta': {'versionId': '1', 'lastUpdated': '2020-06-07T20:52:45.458+00:00', 'source': '#z9IOhkcxDaXTtzjp'}, 'text': {'status': 'generated', 'div': '<div xmlns=\"http://www.w3.org/1999/xhtml\">omeprazole 40mg daily</div>'}, 'status': 'active', 'medicationCodeableConcept': {'coding': [{'system': 'http://snomed.info/ct', 'code': '407848004', 'display': 'omeprazole 40mg e/c tablet'}], 'text': 'omeprazole 40mg e/c tablet '}, 'subject': {'reference': 'Patient/1190111'}, 'dosage': [{'text': '1 tab once daily', 'timing': {'repeat': {'frequency': 1, 'period': 1, 'periodUnit': 'd'}}}]}, 'search': {'mode': 'match'}}, {'fullUrl': 'http://hapi.fhir.org/baseR4/MedicationStatement/1190165', 'resource': {'resourceType': 'MedicationStatement', 'id': '1190165', 'meta': {'versionId': '1', 'lastUpdated': '2020-06-07T20:52:45.458+00:00', 'source': '#z9IOhkcxDaXTtzjp'}, 'text': {'status': 'generated', 'div': '<div xmlns=\"http://www.w3.org/1999/xhtml\">salbutamol inhaler 2 puffs every 4 hours as required</div>'}, 'status': 'active', 'medicationCodeableConcept': {'coding': [{'system': 'http://snomed.info/ct', 'code': ' 320176004', 'display': ' salbutamol 100micrograms/inhaler '}], 'text': 'salbutamol 100micrograms/inhaler'}, 'subject': {'reference': 'Patient/1190111'}, 'dosage': [{'text': '2 puffs every 4 hours as needed', 'timing': {'repeat': {'frequency': 1, 'period': 4, 'periodUnit': 'h'}}, 'asNeededBoolean': True}]}, 'search': {'mode': 'match'}}, {'fullUrl': 'http://hapi.fhir.org/baseR4/List/1190164', 'resource': {'resourceType': 'List', 'id': '1190164', 'meta': {'versionId': '1', 'lastUpdated': '2020-06-07T20:52:45.458+00:00', 'source': '#z9IOhkcxDaXTtzjp'}, 'text': {'status': 'generated', 'div': '<div xmlns=\"http://www.w3.org/1999/xhtml\">Medication list</div>'}, 'status': 'current', 'mode': 'snapshot', 'title': 'Medication List', 'code': {'coding': [{'system': 'http://hl7.org/fhir/list-example-use-codes', 'code': 'medications'}]}, 'subject': {'reference': 'Patient/1190111'}, 'date': '2020-06-07T17:52:44-03:00', 'entry': [{'date': '2020-06-07T17:52:44-03:00', 'item': {'reference': 'MedicationStatement/1190165'}}, {'date': '2020-06-07T17:52:44-03:00', 'item': {'reference': 'MedicationStatement/1190166'}}, {'date': '2020-06-07T17:52:44-03:00', 'item': {'reference': 'MedicationStatement/1190167'}}, {'date': '2020-06-07T17:52:44-03:00', 'item': {'reference': 'MedicationStatement/1190168'}}, {'date': '2020-06-07T17:52:44-03:00', 'item': {'reference': 'MedicationStatement/1190169'}}, {'date': '2020-06-07T17:52:44-03:00', 'item': {'reference': 'MedicationStatement/1190170'}}, {'date': '2020-06-07T17:52:44-03:00', 'item': {'reference': 'MedicationStatement/1190171'}}, {'date': '2020-06-07T17:52:44-03:00', 'item': {'reference': 'MedicationStatement/1190172'}}, {'date': '2020-06-07T17:52:44-03:00', 'item': {'reference': 'MedicationStatement/1190173'}}, {'date': '2020-06-07T17:52:44-03:00', 'item': {'reference': 'MedicationStatement/1190174'}}, {'date': '2020-06-07T17:52:44-03:00', 'item': {'reference': 'MedicationStatement/1190175'}}, {'date': '2020-06-07T17:52:44-03:00', 'item': {'reference': 'MedicationStatement/1190176'}}, {'date': '2020-06-07T17:52:44-03:00', 'item': {'reference': 'MedicationStatement/1190177'}}, {'date': '2020-06-07T17:52:44-03:00', 'item': {'reference': 'MedicationStatement/1190178'}}, {'date': '2020-06-07T17:52:44-03:00', 'item': {'reference': 'MedicationStatement/1190179'}}, {'date': '2020-06-07T17:52:44-03:00', 'item': {'reference': 'MedicationStatement/1190180'}}, {'date': '2020-06-07T17:52:44-03:00', 'item': {'reference': 'MedicationStatement/1190181'}}, {'date': '2020-06-07T17:52:44-03:00', 'item': {'reference': 'MedicationStatement/1190182'}}, {'date': '2020-06-07T17:52:44-03:00', 'item': {'reference': 'MedicationStatement/1190183'}}]}, 'search': {'mode': 'match'}}, {'fullUrl': 'http://hapi.fhir.org/baseR4/MedicationStatement/1190173', 'resource': {'resourceType': 'MedicationStatement', 'id': '1190173', 'meta': {'versionId': '1', 'lastUpdated': '2020-06-07T20:52:45.458+00:00', 'source': '#z9IOhkcxDaXTtzjp'}, 'text': {'status': 'generated', 'div': '<div xmlns=\"http://www.w3.org/1999/xhtml\">losartan 100mg + hydrochlorothiazide 12.5mg once daily</div>'}, 'status': 'active', 'medicationCodeableConcept': {'coding': [{'system': 'http://snomed.info/ct', 'code': '444639002', 'display': 'losartan 100mg + hydrochlorothiazide 12.5mg'}], 'text': 'losartan 100mg + hydrochlorothiazide 12.5mg'}, 'subject': {'reference': 'Patient/1190111'}, 'dosage': [{'text': 'once daily', 'timing': {'repeat': {'frequency': 1, 'period': 1, 'periodUnit': 'd'}}}]}, 'search': {'mode': 'match'}}, {'fullUrl': 'http://hapi.fhir.org/baseR4/MedicationStatement/1190174', 'resource': {'resourceType': 'MedicationStatement', 'id': '1190174', 'meta': {'versionId': '1', 'lastUpdated': '2020-06-07T20:52:45.458+00:00', 'source': '#z9IOhkcxDaXTtzjp'}, 'text': {'status': 'generated', 'div': '<div xmlns=\"http://www.w3.org/1999/xhtml\">metformin 1000mg twice daily</div>'}, 'status': 'active', 'medicationCodeableConcept': {'coding': [{'system': 'http://snomed.info/ct', 'code': '411533003', 'display': 'metformin 1000mg'}], 'text': 'metformin 1000mg'}, 'subject': {'reference': 'Patient/1190111'}, 'dosage': [{'text': '1 tab twice daily', 'timing': {'repeat': {'frequency': 2, 'period': 1, 'periodUnit': 'd'}}}]}, 'search': {'mode': 'match'}}, {'fullUrl': 'http://hapi.fhir.org/baseR4/MedicationStatement/1190182', 'resource': {'resourceType': 'MedicationStatement', 'id': '1190182', 'meta': {'versionId': '1', 'lastUpdated': '2020-06-07T20:52:45.458+00:00', 'source': '#z9IOhkcxDaXTtzjp'}, 'text': {'status': 'generated', 'div': '<div xmlns=\"http://www.w3.org/1999/xhtml\">isosorbide mononitrate 20mg once daily</div>'}, 'status': 'active', 'medicationCodeableConcept': {'coding': [{'system': 'http://snomed.info/ct', 'code': '319134001', 'display': 'isosorbide mononitrate 20mg'}], 'text': 'isosorbide mononitrate 20mg'}, 'subject': {'reference': 'Patient/1190111'}, 'dosage': [{'text': 'once daily at bedtime', 'timing': {'repeat': {'frequency': 1, 'period': 1, 'periodUnit': 'd'}}}]}, 'search': {'mode': 'match'}}, {'fullUrl': 'http://hapi.fhir.org/baseR4/MedicationStatement/1190171', 'resource': {'resourceType': 'MedicationStatement', 'id': '1190171', 'meta': {'versionId': '1', 'lastUpdated': '2020-06-07T20:52:45.458+00:00', 'source': '#z9IOhkcxDaXTtzjp'}, 'text': {'status': 'generated', 'div': '<div xmlns=\"http://www.w3.org/1999/xhtml\">gabapentin 600mg twice daily</div>'}, 'status': 'active', 'medicationCodeableConcept': {'coding': [{'system': 'http://snomed.info/ct', 'code': '323021008', 'display': 'gabapentin 600mg'}], 'text': 'gabapentin 600mg'}, 'subject': {'reference': 'Patient/1190111'}, 'dosage': [{'text': 'twice daily', 'timing': {'repeat': {'frequency': 2, 'period': 1, 'periodUnit': 'd'}}}]}, 'search': {'mode': 'match'}}, {'fullUrl': 'http://hapi.fhir.org/baseR4/MedicationStatement/1190183', 'resource': {'resourceType': 'MedicationStatement', 'id': '1190183', 'meta': {'versionId': '1', 'lastUpdated': '2020-06-07T20:52:45.458+00:00', 'source': '#z9IOhkcxDaXTtzjp'}, 'status': 'active', 'medicationCodeableConcept': {'coding': [{'system': 'http://snomed.info/ct', 'code': '321323009', 'display': 'buspirone 5mg'}]}, 'subject': {'reference': 'Patient/1190111'}, 'dosage': [{'text': '3 times daily', 'timing': {'repeat': {'frequency': 3, 'period': 1, 'periodUnit': 'd'}}}]}, 'search': {'mode': 'match'}}, {'fullUrl': 'http://hapi.fhir.org/baseR4/MedicationStatement/1190172', 'resource': {'resourceType': 'MedicationStatement', 'id': '1190172', 'meta': {'versionId': '1', 'lastUpdated': '2020-06-07T20:52:45.458+00:00', 'source': '#z9IOhkcxDaXTtzjp'}, 'text': {'status': 'generated', 'div': '<div xmlns=\"http://www.w3.org/1999/xhtml\">insulin glargine 100units/mL 28 units nocte</div>'}, 'status': 'active', 'medicationCodeableConcept': {'coding': [{'system': 'http://snomed.info/ct', 'code': '400847007', 'display': 'insulin glargine 100units/mL injection'}], 'text': 'insulin glargine 100units/mL injection'}, 'subject': {'reference': 'Patient/1190111'}, 'dosage': [{'text': '28 units before bed', 'timing': {'repeat': {'frequency': 1, 'period': 1, 'periodUnit': 'd'}}}]}, 'search': {'mode': 'match'}}, {'fullUrl': 'http://hapi.fhir.org/baseR4/MedicationStatement/1190180', 'resource': {'resourceType': 'MedicationStatement', 'id': '1190180', 'meta': {'versionId': '1', 'lastUpdated': '2020-06-07T20:52:45.458+00:00', 'source': '#z9IOhkcxDaXTtzjp'}, 'text': {'status': 'generated', 'div': '<div xmlns=\"http://www.w3.org/1999/xhtml\">zolpidem 5mg sublingual tablet, 1 nocte</div>'}, 'status': 'active', 'medicationCodeableConcept': {'coding': [{'system': 'http://snomed.info/ct', 'code': '442160008', 'display': 'zolpidem 5mg sublingual tablet'}], 'text': 'zolpidem 5mg sublingual tablet'}, 'subject': {'reference': 'Patient/1190111'}, 'dosage': [{'text': '1 tab before bed', 'timing': {'repeat': {'frequency': 1, 'period': 1, 'periodUnit': 'd'}}}]}, 'search': {'mode': 'match'}}, {'fullUrl': 'http://hapi.fhir.org/baseR4/MedicationStatement/1190181', 'resource': {'resourceType': 'MedicationStatement', 'id': '1190181', 'meta': {'versionId': '1', 'lastUpdated': '2020-06-07T20:52:45.458+00:00', 'source': '#z9IOhkcxDaXTtzjp'}, 'text': {'status': 'generated', 'div': '<div xmlns=\"http://www.w3.org/1999/xhtml\">lisinopril 20mg mane</div>'}, 'status': 'active', 'medicationCodeableConcept': {'coding': [{'system': 'http://snomed.info/ct', 'code': '318860005', 'display': 'lisinopril 20mg'}], 'text': 'lisinopril 20mg'}, 'subject': {'reference': 'Patient/1190111'}, 'dosage': [{'text': 'once daily', 'timing': {'repeat': {'frequency': 1, 'period': 1, 'periodUnit': 'd'}}}]}, 'search': {'mode': 'match'}}, {'fullUrl': 'http://hapi.fhir.org/baseR4/MedicationStatement/1190170', 'resource': {'resourceType': 'MedicationStatement', 'id': '1190170', 'meta': {'versionId': '1', 'lastUpdated': '2020-06-07T20:52:45.458+00:00', 'source': '#z9IOhkcxDaXTtzjp'}, 'text': {'status': 'generated', 'div': '<div xmlns=\"http://www.w3.org/1999/xhtml\">citalopram 20 mg once daily</div>'}, 'status': 'active', 'medicationCodeableConcept': {'coding': [{'system': 'http://snomed.info/ct', 'code': '321987003', 'display': 'citalopram 20 mg'}], 'text': 'citalopram 20 mg'}, 'subject': {'reference': 'Patient/1190111'}, 'dosage': [{'text': 'once daily', 'timing': {'repeat': {'frequency': 1, 'period': 1, 'periodUnit': 'd'}}}]}, 'search': {'mode': 'match'}}, {'fullUrl': 'http://hapi.fhir.org/baseR4/MedicationStatement/1190179', 'resource': {'resourceType': 'MedicationStatement', 'id': '1190179', 'meta': {'versionId': '1', 'lastUpdated': '2020-06-07T20:52:45.458+00:00', 'source': '#z9IOhkcxDaXTtzjp'}, 'text': {'status': 'generated', 'div': '<div xmlns=\"http://www.w3.org/1999/xhtml\">terbinafine 250mg once daily</div>'}, 'status': 'active', 'medicationCodeableConcept': {'coding': [{'system': 'http://snomed.info/ct', 'code': '324718007', 'display': 'terbinafine 250mg'}], 'text': 'terbinafine 250mg'}, 'subject': {'reference': 'Patient/1190111'}, 'dosage': [{'text': '1 tab once daily', 'timing': {'repeat': {'frequency': 1, 'period': 1, 'periodUnit': 'd'}}, 'asNeededBoolean': True}]}, 'search': {'mode': 'match'}}]}\n"
     ]
    }
   ],
   "source": [
    "# patients = Patient.search(_id=1190111, everything=True).fetch()\n",
    "print(patientread := Client.execute('/Patient/1190111/$everything'))\n",
    "json.dump(patientread, open(Mocks / \"patient-read-alot-of-observations.ts\", \"w\"), indent=2)"
   ],
   "metadata": {
    "collapsed": false,
    "pycharm": {
     "name": "#%%\n"
    }
   }
  },
  {
   "cell_type": "code",
   "execution_count": 35,
   "outputs": [],
   "source": [
    "statements = MedicationStatement.limit(12).fetch()\n",
    "json.dump(statements, open(Mocks / \"medication-statements.ts\", \"w\"), indent=2)"
   ],
   "metadata": {
    "collapsed": false,
    "pycharm": {
     "name": "#%%\n"
    }
   }
  },
  {
   "cell_type": "code",
   "execution_count": 37,
   "outputs": [],
   "source": [
    "observations = Observation.limit(12).fetch()\n",
    "json.dump(observations, open(Mocks / \"observations.ts\", \"w\"), indent=2)"
   ],
   "metadata": {
    "collapsed": false,
    "pycharm": {
     "name": "#%%\n"
    }
   }
  }
 ],
 "metadata": {
  "kernelspec": {
   "display_name": "Python 3",
   "language": "python",
   "name": "python3"
  },
  "language_info": {
   "codemirror_mode": {
    "name": "ipython",
    "version": 2
   },
   "file_extension": ".py",
   "mimetype": "text/x-python",
   "name": "python",
   "nbconvert_exporter": "python",
   "pygments_lexer": "ipython2",
   "version": "2.7.6"
  }
 },
 "nbformat": 4,
 "nbformat_minor": 0
}