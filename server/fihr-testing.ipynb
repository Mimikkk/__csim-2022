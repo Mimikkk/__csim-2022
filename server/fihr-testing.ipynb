{
 "cells": [
  {
   "cell_type": "code",
   "execution_count": 26,
   "outputs": [],
   "source": [
    "from fhirpy import SyncFHIRClient\n",
    "from fhirpy.base import SyncSearchSet\n",
    "import json\n",
    "from pathlib import Path\n",
    "from os import getcwd"
   ],
   "metadata": {
    "collapsed": false,
    "pycharm": {
     "name": "#%%\n"
    }
   }
  },
  {
   "cell_type": "code",
   "execution_count": 27,
   "outputs": [],
   "source": [
    "Mocks = Path(getcwd()).parent / \"src\" / \"mocks\""
   ],
   "metadata": {
    "collapsed": false,
    "pycharm": {
     "name": "#%%\n"
    }
   }
  },
  {
   "cell_type": "code",
   "execution_count": 28,
   "outputs": [],
   "source": [
    "BaseUrl = \"http://hapi.fhir.org/baseR4\"\n",
    "Client = SyncFHIRClient(BaseUrl)"
   ],
   "metadata": {
    "collapsed": false,
    "pycharm": {
     "name": "#%%\n"
    }
   }
  },
  {
   "cell_type": "code",
   "execution_count": 29,
   "outputs": [],
   "source": [
    "Patient: SyncSearchSet = Client.resources(\"Patient\")\n",
    "MedicationStatement: SyncSearchSet = Client.resources(\"MedicationStatement\")\n",
    "Observation: SyncSearchSet = Client.resources(\"Observation\")"
   ],
   "metadata": {
    "collapsed": false,
    "pycharm": {
     "name": "#%%\n"
    }
   }
  },
  {
   "cell_type": "code",
   "execution_count": 36,
   "outputs": [],
   "source": [
    "patients = Patient.limit(12).fetch()\n",
    "json.dump(patients, open(Mocks / \"patients.ts\", \"w\"), indent=2)"
   ],
   "metadata": {
    "collapsed": false,
    "pycharm": {
     "name": "#%%\n"
    }
   }
  },
  {
   "cell_type": "code",
   "execution_count": 35,
   "outputs": [],
   "source": [
    "statements = MedicationStatement.limit(12).fetch()\n",
    "json.dump(statements, open(Mocks / \"medication-statements.ts\", \"w\"), indent=2)"
   ],
   "metadata": {
    "collapsed": false,
    "pycharm": {
     "name": "#%%\n"
    }
   }
  },
  {
   "cell_type": "code",
   "execution_count": 37,
   "outputs": [],
   "source": [
    "observations = Observation.limit(12).fetch()\n",
    "json.dump(observations, open(Mocks / \"observations.ts\", \"w\"), indent=2)"
   ],
   "metadata": {
    "collapsed": false,
    "pycharm": {
     "name": "#%%\n"
    }
   }
  }
 ],
 "metadata": {
  "kernelspec": {
   "display_name": "Python 3",
   "language": "python",
   "name": "python3"
  },
  "language_info": {
   "codemirror_mode": {
    "name": "ipython",
    "version": 2
   },
   "file_extension": ".py",
   "mimetype": "text/x-python",
   "name": "python",
   "nbconvert_exporter": "python",
   "pygments_lexer": "ipython2",
   "version": "2.7.6"
  }
 },
 "nbformat": 4,
 "nbformat_minor": 0
}